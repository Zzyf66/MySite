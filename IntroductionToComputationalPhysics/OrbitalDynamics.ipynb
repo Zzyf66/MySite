{
  "cells": [
    {
      "cell_type": "markdown",
      "metadata": {
        "id": "view-in-github",
        "colab_type": "text"
      },
      "source": [
        "<a href=\"https://colab.research.google.com/github/Zzyf66/MySite/blob/main/IntroductionToComputationalPhysics/OrbitalDynamics.ipynb\" target=\"_parent\"><img src=\"https://colab.research.google.com/assets/colab-badge.svg\" alt=\"Open In Colab\"/></a>"
      ]
    },
    {
      "cell_type": "markdown",
      "metadata": {
        "id": "JMDn1zKf-gXp"
      },
      "source": [
        "# Orbital Dynamics"
      ]
    },
    {
      "cell_type": "markdown",
      "metadata": {
        "id": "rG5ZDKGy-gXr"
      },
      "source": [
        "* **Author:**\n",
        "\n",
        "* **Date:**\n",
        "\n",
        "* **Time spent on this assignment:**"
      ]
    },
    {
      "cell_type": "markdown",
      "metadata": {
        "id": "ue4Ypt06-gXr"
      },
      "source": [
        "## Overview"
      ]
    },
    {
      "cell_type": "markdown",
      "metadata": {
        "id": "gk4En4Ey-gXs"
      },
      "source": [
        "In this assignment we will learn how to simulate the orbital dynamics of a planet going around the sun (which we assume to be fixed).  We will then proceed to use simulation to test two of the most important physics results in the last 400 years.  \n",
        "\n",
        "First, we will numerically validate Kepler's Second Law: a planet sweeps out the same area of its orbit in equal time.  Kepler's first law (all planets 🪐 orbit in ellipses) and Kepler's third law (the square of the orbital period of a planet is directly proportional to the cube of the semi-major axis of its orbit) will be left as extra credit.  \n",
        "\n",
        "Then we will see that general relativity alters the Newtonian law of gravitation in such a way that the planets no longer move in ellipses.  Instead, their closest approach to the sun (the perihelion) changes its location slightly as you go around the Sun.  Mesuring this effect in Mercury was one of the key original validations of general relativity."
      ]
    },
    {
      "cell_type": "code",
      "execution_count": 1,
      "metadata": {
        "tags": [
          "hide-cell"
        ],
        "id": "PcNshhvD-gXs",
        "outputId": "9e0b3087-b26c-4422-d0a3-156a28df2f32",
        "colab": {
          "base_uri": "https://localhost:8080/"
        }
      },
      "outputs": [
        {
          "output_type": "execute_result",
          "data": {
            "text/plain": [
              "datetime.datetime(2025, 2, 6, 20, 36, 14, 374203)"
            ]
          },
          "metadata": {},
          "execution_count": 1
        }
      ],
      "source": [
        "import numpy as np\n",
        "import matplotlib.pyplot as plt\n",
        "import math\n",
        "\n",
        "def resetMe(keepList=[]):\n",
        "    ll=%who_ls\n",
        "    keepList=keepList+['resetMe','np','plt','math','jax','jnp','jit','grad']\n",
        "    for iiii in keepList:\n",
        "        if iiii in ll:\n",
        "            ll.remove(iiii)\n",
        "    for iiii in ll:\n",
        "        jjjj=\"^\"+iiii+\"$\"\n",
        "        %reset_selective -f {jjjj}\n",
        "    ll=%who_ls\n",
        "    plt.rcParams.update({\"font.size\": 14})\n",
        "    return\n",
        "#resetMe()\n",
        "import datetime;datetime.datetime.now()"
      ]
    },
    {
      "cell_type": "markdown",
      "metadata": {
        "id": "b43_nLmD-gXt"
      },
      "source": [
        "##  Warmups"
      ]
    },
    {
      "cell_type": "markdown",
      "metadata": {
        "id": "Re6u7sVX-gXt"
      },
      "source": [
        "### Planetary Parameters"
      ]
    },
    {
      "cell_type": "code",
      "execution_count": 4,
      "metadata": {
        "id": "kVibnCio-gXt"
      },
      "outputs": [],
      "source": [
        "#resetMe()\n",
        "SolarSystemParameters=dict()\n",
        "SolarSystemParameters[\"MercuryOrbitRadius\"]=57.9e9 #meters\n",
        "SolarSystemParameters[\"MercuryPerihelion\"]=46.0012e9 # meters\n",
        "SolarSystemParameters[\"MercuryAphelion\"]=69.8169e9 # meters\n",
        "\n",
        "SolarSystemParameters[\"EarthRadius\"]=6.371e6 #meters\n",
        "SolarSystemParameters[\"EarthRotatingVelocity\"]=444.444 # meters per second\n",
        "SolarSystemParameters[\"EarthOrbitRadius\"]=149.6e9 # meters\n",
        "SolarSystemParameters[\"EarthOrbitVelocity\"]=30e3 # meters per secon\n",
        "SolarSystemParameters[\"EarthMass\"]=5.972e24 # kg\n",
        "SolarSystemParameters[\"MoonOrbitRadius\"]=363228.9e3\n",
        "SolarSystemParameters[\"MoonMass\"]=7.34e22 # kg\n",
        "\n",
        "SolarSystemParameters[\"SunRadius\"]=695.51e3 #meters\n",
        "SolarSystemParameters[\"SunMass\"]=1.989e30 # kg\n",
        "SolarSystemParameters[\"G\"]=6.67408e-11"
      ]
    },
    {
      "cell_type": "markdown",
      "metadata": {
        "id": "tA2WRCzN-gXu"
      },
      "source": [
        "### Using Dictionaries"
      ]
    },
    {
      "cell_type": "markdown",
      "metadata": {
        "id": "s9AUy9Bh-gXu"
      },
      "source": [
        "We've defined some planetary parameters for you.  Use these parameters to plot a model of our solar system which includes the Sun, Earth and Mercury assuming that the planets orbit in circular motion.  (this doesn't involve any simulations just plotting things to scale."
      ]
    },
    {
      "cell_type": "markdown",
      "metadata": {
        "id": "cxEX2GSX-gXu"
      },
      "source": [
        "---"
      ]
    },
    {
      "cell_type": "markdown",
      "metadata": {
        "id": "K18JCzVD-gXu"
      },
      "source": [
        "## Exercise 1. Orbital Dynamics"
      ]
    },
    {
      "cell_type": "markdown",
      "metadata": {
        "id": "mv-5BUGc-gXu"
      },
      "source": [
        "* **List of collaborators:**\n",
        "\n",
        "* **References you used in developing your code:**"
      ]
    },
    {
      "cell_type": "markdown",
      "metadata": {
        "id": "fvliyAOR-gXu"
      },
      "source": [
        "### a. Modify your code to include the force of gravity"
      ]
    },
    {
      "cell_type": "markdown",
      "metadata": {
        "id": "0TUFSraE-gXu"
      },
      "source": [
        "In Newton’s model the earth’s gravity is a central force that exerts an attractive pull\n",
        "\n",
        "$$\\vec{F}(\\vec{r}) = m\\vec{a}(\\vec{r}) = -\\frac{Gm_\\textrm{earth}m}{r^2}\\hat{r}$$\n",
        "between the earth and another mass m. In the formula G is Newton’s constant, $6.674 \\times 10^{-11} m^3/\\textrm{kg}/\\textrm{sec}^2$. The mass of the earth is approximately $5.972 \\times 10^{24}$ kg.  Because the gravitational force from the earth is proportional to an object’s mass, its gravitationally induced acceleration is independent of its mass.\n",
        "\n",
        "Let’s place the origin of a right handed coordinate system at the earth’s center, with the equator lying in the x,y plane and the x axis passing through $0^{\\circ}$ longitude. To simplify things let’s assume that the orbit of any object of interest lies in the $x,y$ plane. As you can see in the following figure, the angle φ is taken with respect to the x axis. We are fixing $\\theta = 90^{\\circ}$."
      ]
    },
    {
      "cell_type": "markdown",
      "metadata": {
        "id": "N03gdN6g-gXu"
      },
      "source": [
        "<div><img src=\"https://clark.physics.illinois.edu/246img/coord.png\" width=400 alt=\"coordinate frame\"></img><br></div>"
      ]
    },
    {
      "cell_type": "markdown",
      "metadata": {
        "id": "HxCokeIC-gXu"
      },
      "source": [
        "We can write the $x, y$ components of the gravitational acceleration as\n",
        "\n",
        "$$a_x = -\\frac{Gm_\\textrm{sun} }{x^2+y^2}\\cos \\phi = - \\frac{Gm_\\textrm{sun} x }{(x^2+y^2)^{3/2}}$$\n",
        "\n",
        "\n",
        "$$a_y = -\\frac{Gm_\\textrm{sun} }{x^2+y^2}\\sin \\phi = - \\frac{Gm_\\textrm{sun} y }{(x^2+y^2)^{3/2}}$$\n",
        "\n",
        "\n",
        "🦉Modify your code to correctly incorporate gravity."
      ]
    },
    {
      "cell_type": "markdown",
      "metadata": {
        "id": "SXG0t8g7-gXu"
      },
      "source": [
        "Copy over your previous work for an integrator (we recommend the midpoint method).  Assuming the sun is at (0,0) modify your Modify your force function to implement the gravitational force.  Use the parameters in your force function. Also modify your `Orbit` function to run for a time `params[\"T\"]` instead of when it hits the ground. In my code, I also put in a `param['CrashRadius']` that terminated my code in addition to `param[\"T\"]`.  Btw, if you use the \"tab\" button it will tell you what's in your SolarSystemParameters dictionary.  There will be nothing to run here just the functions (you will make plots below)"
      ]
    },
    {
      "cell_type": "markdown",
      "metadata": {
        "id": "2k09R3wv-gXu"
      },
      "source": [
        "<div><img src=\"https://clark.physics.illinois.edu/246img/AnsStart.svg\" width=200 align=left alt=\"Answer (start)\"></img><br></div>"
      ]
    },
    {
      "cell_type": "code",
      "execution_count": 28,
      "metadata": {
        "id": "Ow6Wri-6-gXu"
      },
      "outputs": [],
      "source": [
        "### ANSWER HERE\n",
        "\n",
        "\n",
        "def GravitationalForce(pos, params):\n",
        "    G = params[\"G\"]\n",
        "    M = params[\"M\"]\n",
        "    r = np.linalg.norm(pos)\n",
        "    if r == 0:\n",
        "        return np.array([0, 0])\n",
        "    force_mag = -G * M / r**2\n",
        "    force_dir = pos / r\n",
        "    return force_mag * force_dir\n",
        "\n",
        "def StepMid(t, pos, vel, dt, params):\n",
        "    assert isinstance(pos, np.ndarray)\n",
        "    a = GravitationalForce(pos, params)\n",
        "    posmid = pos + vel * dt / 2\n",
        "    velmid = vel + a * dt / 2\n",
        "    dx = velmid * dt\n",
        "    dv = a * dt\n",
        "    new_pos = pos + dx\n",
        "    new_vel = vel + dv\n",
        "    new_t = t + dt\n",
        "    return new_t, new_pos, new_vel\n",
        "\n",
        "def Orbit(params):\n",
        "    t = 0\n",
        "    pos = np.array(params[\"InitialPosition\"], dtype=float)\n",
        "    vel = np.array(params[\"InitialVelocity\"], dtype=float)\n",
        "    dt = params[\"dt\"]\n",
        "    T = params[\"T\"]\n",
        "    crash_radius = params[\"CrashRadius\"]\n",
        "    trajectory = [(t, pos.copy())]\n",
        "\n",
        "    while t < T and np.linalg.norm(pos) > crash_radius:\n",
        "        t, pos, vel = StepMid(t, pos, vel, dt, params)\n",
        "        trajectory.append((t, pos.copy()))\n",
        "\n",
        "    return trajectory\n"
      ]
    },
    {
      "cell_type": "markdown",
      "metadata": {
        "id": "V7NB5EL5-gXv"
      },
      "source": [
        "<div><img src=\"https://clark.physics.illinois.edu/246img/AnsEnd.svg\" width=200 align=left alt=\"Answer (end)\"></img><br></div>"
      ]
    },
    {
      "cell_type": "markdown",
      "metadata": {
        "id": "priAKVQC-gXv"
      },
      "source": [
        "### b.  Earth Orbiting the Sun"
      ]
    },
    {
      "cell_type": "markdown",
      "metadata": {
        "id": "G1CUbI0r-gXv"
      },
      "source": [
        "Write some code to set up the parameters of the Earth orbiting the sun and then plot it.  Use a dt of 3600 seconds.  This will involve calling your functions from above. You will want to build a dictionary of `params`  which involve things like your initial positions (use Earth's orbital radius), your initial velocity, the time step `dt`, etc.  You should be able to plot it as `plt.plot(positions[:,0],positions[:,1])`\n",
        "`\n",
        "<!--\n",
        "To draw the Earth, I recommend something like:\n",
        "```python\n",
        "earth_radius = SolarSystemParameters[\"EarthRadius\"] # m\n",
        "# create a (blank) figure so we can set some of its attributes.\n",
        "fig = plt.figure()\n",
        "ax = fig.gca()\n",
        "# set labels and title; force square aspect ratio.\n",
        "ax.set_xlabel(\"orbit x, km\")\n",
        "ax.set_ylabel(\"orbit y, km\")\n",
        "ax.set_title(\"GPS satellite trial orbit\")\n",
        "ax.set_aspect(\"equal\")\n",
        "# plot stuff,\n",
        "#plt.plot(xarray, yarray)\n",
        "# force the axes to be of equal scales...\n",
        "rmax = np.max( (xarray**2+yarray**2)**0.5)\n",
        "pltmax = 1.05 * rmax\n",
        "plt.axis([-pltmax, pltmax, -pltmax, pltmax])\n",
        "# now draw the earth\n",
        "earth_disk = plt.Circle((0, 0), earth_radius , color = \"#99FF99\")\n",
        "fig.gca().add_artist(earth_disk)\n",
        "```\n",
        "-->"
      ]
    },
    {
      "cell_type": "markdown",
      "metadata": {
        "id": "AmJpSEr5-gXv"
      },
      "source": [
        "<div><img src=\"https://clark.physics.illinois.edu/246img/AnsStart.svg\" width=200 align=left alt=\"Answer (start)\"></img><br></div>"
      ]
    },
    {
      "cell_type": "code",
      "execution_count": 30,
      "metadata": {
        "id": "83JyVUPe-gXv",
        "outputId": "c05f47a0-211a-4a92-836b-b1621a333773",
        "colab": {
          "base_uri": "https://localhost:8080/",
          "height": 602
        }
      },
      "outputs": [
        {
          "output_type": "stream",
          "name": "stdout",
          "text": [
            "[[0.00000000e+00 1.49600000e+11]\n",
            " [1.08000000e+08 1.49599962e+11]\n",
            " [2.15999972e+08 1.49599846e+11]\n",
            " ...\n",
            " [9.88632689e+10 1.12980466e+11]\n",
            " [9.89449253e+10 1.12910316e+11]\n",
            " [9.90265315e+10 1.12840107e+11]]\n"
          ]
        },
        {
          "output_type": "execute_result",
          "data": {
            "text/plain": [
              "[<matplotlib.lines.Line2D at 0x7cf7ad8f3d10>]"
            ]
          },
          "metadata": {},
          "execution_count": 30
        },
        {
          "output_type": "display_data",
          "data": {
            "text/plain": [
              "<Figure size 640x480 with 1 Axes>"
            ],
            "image/png": "[encoded data removed]"
          },
          "metadata": {}
        }
      ],
      "source": [
        "### ANSWER HERE\n",
        "params = {\"dt\":3600,\n",
        "          \"InitialPosition\":np.array([0,SolarSystemParameters[\"EarthOrbitRadius\"]]),\n",
        "          \"InitialVelocity\":np.array([SolarSystemParameters[\"EarthOrbitVelocity\"],0]),\n",
        "          \"T\":3600000,\n",
        "          \"CrashRadius\":SolarSystemParameters[\"EarthRadius\"],\n",
        "          \"G\":SolarSystemParameters[\"G\"],\n",
        "          \"M\":SolarSystemParameters[\"SunMass\"],\n",
        "\n",
        "          }\n",
        "\n",
        "trajectory = Orbit(params)\n",
        "positions = np.array([pos for t, pos in trajectory])\n",
        "print(positions)\n",
        "plt.plot(positions[:,0],positions[:,1])"
      ]
    },
    {
      "cell_type": "markdown",
      "metadata": {
        "id": "Wyjd-AHo-gXv"
      },
      "source": [
        "<div><img src=\"https://clark.physics.illinois.edu/246img/AnsEnd.svg\" width=200 align=left alt=\"Answer (end)\"></img><br></div>"
      ]
    },
    {
      "cell_type": "markdown",
      "metadata": {
        "id": "rXV80fj6-gXv"
      },
      "source": [
        "### c. Animation"
      ]
    },
    {
      "cell_type": "markdown",
      "metadata": {
        "id": "AO16jleh-gXv"
      },
      "source": [
        "Run the code below to plot an animation of your orbit.  Your coordinates have to be in positions.\n",
        "```\n",
        "from matplotlib import animation\n",
        "from IPython.display import HTML\n",
        "\n",
        "def animateMe(positions,fullLine=True):\n",
        "    # First set up the figure, the axis, and the plot element we want to animate\n",
        "    fig = plt.figure();\n",
        "    x_min=np.min(positions[:,0])\n",
        "    x_max=np.max(positions[:,0])*1.1\n",
        "    y_min=np.min(positions[:,1])\n",
        "    y_max=np.max(positions[:,1])*1.1\n",
        "\n",
        "    ax = plt.axes(xlim=(x_min, x_max), ylim=(y_min, y_max));\n",
        "    #line, = ax.plot([], [], lw=2);\n",
        "    line, = ax.plot([], [],'bo', ms=10);\n",
        "    ax.set_xlabel(\"x\")\n",
        "    ax.set_ylabel(\"y\")\n",
        "    plt.axis('scaled')\n",
        "    plt.close(fig)\n",
        "    # initialization function: plot the background of each frame\n",
        "    def init():\n",
        "        line.set_data([], [])\n",
        "        return line,\n",
        "\n",
        "    # animation function.  This is called sequentially\n",
        "    def animate(i):\n",
        "        x = positions[:,0]\n",
        "        y = positions[:,1]\n",
        "        if fullLine:\n",
        "            line.set_data(positions[0:i,0], positions[0:i,1])\n",
        "        else:\n",
        "            line.set_data(positions[i,0], positions[i,1])\n",
        "#        line.set_markersize(10)\n",
        "        return line,\n",
        "\n",
        "    # call the animator.  blit=True means only re-draw the parts that have changed.\n",
        "    anim = animation.FuncAnimation(fig, animate, init_func=init,\n",
        "                                   frames=len(positions), interval=20,\n",
        "                                   blit=True,repeat=False);\n",
        "    return anim\n",
        "steps=np.shape(pos)[0]\n",
        "\n",
        "anim=animateMe(pos[::steps//100],True)\n",
        "HTML(anim.to_jshtml())\n",
        "\n",
        "```"
      ]
    },
    {
      "cell_type": "markdown",
      "metadata": {
        "id": "o_6JTJVV-gXv"
      },
      "source": [
        "<div><img src=\"https://clark.physics.illinois.edu/246img/AnsStart.svg\" width=200 align=left alt=\"Answer (start)\"></img><br></div>"
      ]
    },
    {
      "cell_type": "code",
      "execution_count": null,
      "metadata": {
        "id": "joYHTqVp-gXv"
      },
      "outputs": [],
      "source": [
        "### ANSWER HERE"
      ]
    },
    {
      "cell_type": "markdown",
      "metadata": {
        "id": "P-ZBUK_S-gXv"
      },
      "source": [
        "<div><img src=\"https://clark.physics.illinois.edu/246img/AnsEnd.svg\" width=200 align=left alt=\"Answer (end)\"></img><br></div>"
      ]
    },
    {
      "cell_type": "markdown",
      "metadata": {
        "id": "FQ-tEDOk-gXv"
      },
      "source": [
        "### d. Geosyncronous Orbit (Extra Credit: 5 Points)"
      ]
    },
    {
      "cell_type": "markdown",
      "metadata": {
        "id": "0D2X-0WD-gXv"
      },
      "source": [
        "🦉Determine the height a spaceship needs to be above the surface of the Earth to be in circular Geosynchronous orbit. A geosynchronous orbit is one that stays over the same point of Earth for the entire orbit.   To determine this, we need to set up our orbit simulation to run for an Earth/Satellite simulation.\n",
        "\n",
        "\n",
        "A useful thing to know is that the velocity that you need to apply tangeant to a circular orbit to stay in a circular orbit of radius $r$ is\n",
        "\n",
        "$$ v = \\sqrt{\\frac{GM}{r}} $$\n",
        "\n",
        "Then compute the orbit of that trajectory.  To show that it's geosynchronous you want it to produce an orbit that is a circle in one day.  You can make your `m` small (say 100 kg).  I recommend a `dt` of 1 second."
      ]
    },
    {
      "cell_type": "markdown",
      "metadata": {
        "id": "Idv7o9Ex-gXv"
      },
      "source": [
        "<div><img src=\"https://clark.physics.illinois.edu/246img/AnsStart.svg\" width=200 align=left alt=\"Answer (start)\"></img><br></div>"
      ]
    },
    {
      "cell_type": "code",
      "execution_count": null,
      "metadata": {
        "id": "WdmG1QqR-gXv"
      },
      "outputs": [],
      "source": [
        "### ANSWER HERE"
      ]
    },
    {
      "cell_type": "code",
      "execution_count": null,
      "metadata": {
        "id": "nFphqwI2-gXv"
      },
      "outputs": [],
      "source": []
    },
    {
      "cell_type": "markdown",
      "metadata": {
        "id": "MKC3t49W-gXv"
      },
      "source": [
        "<div><img src=\"https://clark.physics.illinois.edu/246img/AnsEnd.svg\" width=200 align=left alt=\"Answer (end)\"></img><br></div>"
      ]
    },
    {
      "cell_type": "markdown",
      "metadata": {
        "id": "W1GZEmQt-gXv"
      },
      "source": [
        "---"
      ]
    },
    {
      "cell_type": "markdown",
      "metadata": {
        "collapsed": true,
        "id": "CB2VVhtw-gXv"
      },
      "source": [
        "## Exercise 2. Kepler's Laws"
      ]
    },
    {
      "cell_type": "markdown",
      "metadata": {
        "id": "45StDvHu-gXz"
      },
      "source": [
        "* **List of collaborators:**\n",
        "\n",
        "* **References you used in developing your code:**"
      ]
    },
    {
      "cell_type": "markdown",
      "metadata": {
        "id": "lQvxtfOo-gXz"
      },
      "source": [
        "Kepler developed three laws about planetary motion (using data from Tycho Brahe on planetary motion).  In this exercise you will explicitly check Kepler's laws.\n",
        "\n",
        "The three laws are (from [wikipedia](https://en.wikipedia.org/wiki/Kepler%27s_laws_of_planetary_motion)):\n",
        "\n",
        "(1) The orbit of a planet is an ellipse with the Sun at one of the two foci.\n",
        "\n",
        "(2) A line segment joining a planet and the Sun sweeps out equal areas during equal intervals of time.\n",
        "\n",
        "(3) The square of the orbital period of a planet is directly proportional to the cube of the semi-major axis of its orbit."
      ]
    },
    {
      "cell_type": "markdown",
      "metadata": {
        "collapsed": true,
        "id": "k0Bi4KDk-gXz"
      },
      "source": [
        "### a. Law 2"
      ]
    },
    {
      "cell_type": "markdown",
      "metadata": {
        "collapsed": true,
        "id": "FSVAlSkS-gXz"
      },
      "source": [
        "Kepler's second law tells us that the planet sweeps out the same \"area\" of the ellipse in a fixed amount of time.  \n",
        "🦉Verify this by computing (and plotting) the area swept out in these two regions:\n",
        "\n",
        "* $0.2 T_\\textrm{orbit}<t<0.2T_\\textrm{orbit}+0.1T_\\textrm{orbit}$\n",
        "* $0.6 T_\\textrm{orbit}<t<0.6 T_\\textrm{orbit}+0.1T_\\textrm{orbit}$\n",
        "\n",
        "where $T_\\textrm{orbit}$ is the total time for an orbit.  Use Earth's orbit to do this and a time-step of 1 hour.  \n",
        "\n",
        "To compute the area, I summed a bunch of triangles that make up the points on the orbit.  Toward that end I found it useful to write a `TriangleArea` function.\n",
        "\n",
        "Here is an example of the area sweeped out for 0.1T of an orbit at different times (**but note that this is for a random orbit and not Earth's orbit!**):"
      ]
    },
    {
      "cell_type": "markdown",
      "metadata": {
        "id": "6bRMz_TS-gXz"
      },
      "source": [
        "<div><img src=\"https://clark.physics.illinois.edu/246img/KeplerSecond.png\" width=600  alt=\"Kepler Second Law\"></img><br></div>"
      ]
    },
    {
      "cell_type": "markdown",
      "metadata": {
        "id": "JB12LYq8-gXz"
      },
      "source": [
        "You should report what your two areas are."
      ]
    },
    {
      "cell_type": "markdown",
      "metadata": {
        "id": "MHcypgGL-gXz"
      },
      "source": [
        "<div><img src=\"https://clark.physics.illinois.edu/246img/AnsStart.svg\" width=200 align=left alt=\"Answer (start)\"></img><br></div>"
      ]
    },
    {
      "cell_type": "code",
      "execution_count": null,
      "metadata": {
        "id": "WpQn9xY--gXz"
      },
      "outputs": [],
      "source": [
        "### ANSWER HERE"
      ]
    },
    {
      "cell_type": "code",
      "execution_count": null,
      "metadata": {
        "id": "MLwJ8Lii-gXz"
      },
      "outputs": [],
      "source": []
    },
    {
      "cell_type": "markdown",
      "metadata": {
        "id": "UphKWzfX-gXz"
      },
      "source": [
        "<div><img src=\"https://clark.physics.illinois.edu/246img/AnsEnd.svg\" width=200 align=left alt=\"Answer (end)\"></img><br></div>"
      ]
    },
    {
      "cell_type": "markdown",
      "metadata": {
        "id": "mNWigRJR-gXz"
      },
      "source": [
        "### b. Law 1 (Extra Credit: 10 points)"
      ]
    },
    {
      "cell_type": "markdown",
      "metadata": {
        "id": "7O3oGBlL-gXz"
      },
      "source": [
        "The first law tells us that the orbit is an ellipse and the sun is at a foci.  🦉To check this,\n",
        "* Modify the constants in your code to emulate planets (i.e. let `M` be the mass of the sun, $M_\\textrm{sun} = 1.989 \\times 10^{30}$ kg)\n",
        "* Let `dt` be an hour\n",
        "* Emulate some eccentric orbits.  To do this, change the initial velocity by a little bit.  This will give you some eccentric orbits.\n",
        "* Check that the orbit you get is an ellipse with the sun is a foci.\n",
        "\n",
        "The latter is a little subtle.  To check that you have an ellipse, we should verify that the points (`orbit.xs`) satisfy the general equation for an ellipse.  \n",
        "\n",
        "The general equation for an ellipse ([stackexchange](https://math.stackexchange.com/questions/426150/what-is-the-general-equation-of-the-ellipse-that-is-not-in-the-origin-and-rotate)) is\n",
        "\n",
        "$$ \\frac{((x-h)\\cos(A) + (y-k)\\sin(A))^2}{a^2} + \\frac{((x-h)\\sin(A) - (y-k)\\cos(A))^2}{b^2} =1$$\n",
        "\n",
        "where $a$ is the length of the semi-major axis, $b$ is the length of the semi-minor axis, $(h,k)$ is the center of the ellipse and $A$ is the angle of the ellipse.\n",
        "\n",
        "Given a foci, we can compute the points closest and further from the loci, $p_{min}$ and $p_{max}$ which are at distance $r_{min}$ and $r_{max}$.\n",
        "\n",
        "With these we can compute  \n",
        "* $a=\\frac{r_\\textrm{min}+r_\\textrm{max}}{2}$   \n",
        "* $b=\\sqrt{r_\\textrm{min}r_\\textrm{max}}$  \n",
        "* the center $(h,k) = (p_\\textrm{max}+p_\\textrm{min})/2$.  \n",
        "* the semi-major axis $\\vec{a}=(p_\\textrm{max}-p_\\textrm{min})$\n",
        "* the angle $A=\\tan^{-1}[\\vec{a}(1)/\\vec{a}(0)]$\n",
        "\n",
        "I wrote a function `CheckEllipse` that given a set of coordinates (and the foci of the sun at the origin) assumed it was an ellipse and checked if the points obeyed this equation."
      ]
    },
    {
      "cell_type": "markdown",
      "metadata": {
        "id": "IofMNUep-gXz"
      },
      "source": [
        "<div><img src=\"https://clark.physics.illinois.edu/246img/AnsStart.svg\" width=200 align=left alt=\"Answer (start)\"></img><br></div>"
      ]
    },
    {
      "cell_type": "code",
      "execution_count": null,
      "metadata": {
        "id": "wo6LLHFD-gXz"
      },
      "outputs": [],
      "source": [
        "### ANSWER HERE"
      ]
    },
    {
      "cell_type": "markdown",
      "metadata": {
        "id": "YAXx1nKX-gX0"
      },
      "source": [
        "<div><img src=\"https://clark.physics.illinois.edu/246img/AnsEnd.svg\" width=200 align=left alt=\"Answer (end)\"></img><br></div>"
      ]
    },
    {
      "cell_type": "markdown",
      "metadata": {
        "id": "tu5ZWbgt-gX0"
      },
      "source": [
        "### c. Law 3: (Extra Credit: 10 points)"
      ]
    },
    {
      "cell_type": "markdown",
      "metadata": {
        "id": "46BY_qV3-gX0"
      },
      "source": [
        "Kepler's third law tells us that the square of the orbital period of a planet is directly proportional to the cube of the semi-major axis of its orbit.\n",
        "\n",
        "In other words, $T^2 \\propto a^3$."
      ]
    },
    {
      "cell_type": "markdown",
      "metadata": {
        "id": "eVnFIt6_-gX0"
      },
      "source": [
        "*From Wikipedia quoting Kepler on finding the third law:*\n",
        "<div><img src=\"https://clark.physics.illinois.edu/246img/KeplerQuote.png\" width=600  alt=\"Kepler Second Law\"></img><br></div>\n"
      ]
    },
    {
      "cell_type": "markdown",
      "metadata": {
        "id": "kky-Aeti-gX0"
      },
      "source": [
        "🦉Verify Kepler's third law by computing the orbital period $T$ (write a function that finds when your orbit essentially gets back to its starting place) and the semi-major axis (as you did above) for 25 different orbits.  To generate these orbits use random initial starting velocities of the form\n",
        "\n",
        "```python\n",
        "v_circ = np.sqrt(G*M/r0)\n",
        "v0=[v_circ+np.random.uniform(-0.2,0.2)*v_circ,np.random.uniform(-0.2,0.2)*v_circ]\n",
        "```\n",
        "\n",
        "Then graph $a^3$ vs. $T^2$ and show that this makes a line.  🦉Show that the slope of this line is\n",
        "\n",
        "$$\\frac{GM}{4\\pi^2}$$"
      ]
    },
    {
      "cell_type": "markdown",
      "metadata": {
        "id": "1LvNpboe-gX0"
      },
      "source": [
        "It is helpful to add code to your class that stops your simulation after you return to the starting point. This can be done by either:\n",
        "* checking that the distance from the starting point gets further away->closer->further away\n",
        "* monitoring the $r$ of your planet\n",
        "* by checking how close the $x$ location is to your initial spot  \n",
        "\n",
        "\n",
        "It'll save you valuable running time if you implement this, but it is not necessary."
      ]
    },
    {
      "cell_type": "markdown",
      "metadata": {
        "id": "-Zc1vTc9-gX0"
      },
      "source": [
        "<div><img src=\"https://clark.physics.illinois.edu/246img/AnsStart.svg\" width=200 align=left alt=\"Answer (start)\"></img><br></div>"
      ]
    },
    {
      "cell_type": "code",
      "execution_count": null,
      "metadata": {
        "id": "UwLkZtHd-gX0"
      },
      "outputs": [],
      "source": [
        "### ANSWER HERE"
      ]
    },
    {
      "cell_type": "markdown",
      "metadata": {
        "id": "a8vvL4Dm-gX0"
      },
      "source": [
        "<div><img src=\"https://clark.physics.illinois.edu/246img/AnsEnd.svg\" width=200 align=left alt=\"Answer (end)\"></img><br></div>"
      ]
    },
    {
      "cell_type": "markdown",
      "metadata": {
        "id": "V5VgHgwl-gX0"
      },
      "source": [
        "## Background (just information...no work on this problem)"
      ]
    },
    {
      "cell_type": "markdown",
      "metadata": {
        "id": "3QJhoQKv-gX0"
      },
      "source": [
        "**Post-Newtonian gravitational orbits**"
      ]
    },
    {
      "cell_type": "markdown",
      "metadata": {
        "id": "orsVn1YM-gX0"
      },
      "source": [
        "Trajectories in $1/r^2$ central force fields are conic sections: hyperbolas or parabolas for unbound objects, and ellipses for objects in bound orbits. A special property of an inverse-square force is that bound orbits close on themselves—the orientation in space of the ellipse remains fixed. But if gravity were to deviate from a purely inverse-square force law, bound orbits would not close (unless they were perfectly circular), and could not strictly be described as ellipses.\n",
        "\n",
        "One of the earliest tests of general relativity was its prediction for the rate at which Mercury’s orbit would change its orientation over time. Mercury’s distance from (the center of) the sun varies from 46,001,200 km at perihelion (the point at which Mercury is closest to the sun) to 69,816,900 km at aphelion, so it samples the strength of the sun’s gravitational pull over a significant range of distance.\n",
        "\n",
        "The orbit’s long axis precesses 574.1 seconds of arc per century. [<sup>1</sup>](#fn1). (There are 3,600 seconds of arc in one degree.) Most of this is due to the perturbing effects of the other planets, but there is a measurable contribution of 43 seconds of arc per century from the small differences between the (approximately correct) Newtonian and (extraordinarily accurate) Einsteinian descriptions of gravity. The force law, according to general relativity, isn’t quite an inverse square relation. [<sup>2</sup>](#fn2)\n",
        "\n",
        "The precession rate is small. During the course of one orbit of 87.969 days, the perihelion will shift by $(5.022 \\pm 0.005) \\times 10^{-7}$ radians due to general relativistic effects. This corresponds to a displacement in space of about 23 km for one orbit’s perihelion relative to the previous orbit’s, added to the much larger Newtonian perturbations from the other planets.\n",
        "\n",
        "In weak gravitational fields we can accommodate the effects of general relativity as a slight modification [<sup>3</sup>](#fn3) to the acceleration of a mass $m$ in an almost-elliptical orbit around the sun:\n",
        "\n",
        "\n",
        "$$ \\frac{F(r)}{m} = -\\frac{GM_\\odot}{r^2} + -\\frac{3r_s\\left(v_\\textrm{perihelion}r_\\textrm{perihelion}\\right)^2}{2r^4}$$\n",
        "\n",
        "where $M_\\odot=1.98855 \\times 10^{30}$ kg is the mass of the sun.[<sup>4</sup>](#fn4).  You may recall that the Schwarzschild radius $r_s$ of an object of mass $M$ is $2GM/c^2$, and that the sun's $r_s$ is 2,953.36 meters.  For Mercury $v_\\textrm{perihelion}=58,980$ m/s while $r_\\textrm{perihelion} = 46,001,200$ km.  (Note that the formula requires the perihelion radius to be expressed in meters.)[<sup>5</sup>](#fn5)\n",
        "\n",
        "Just for your information, here is a table of contributions to the Newtonian precession of Mercury’s perihelion from the other planets. The largest come from Venus (because it is so close to Mercury) and Jupiter (because it is so massive). These are taken from the work of the 19th century astronomer Urban LeVerrier.[<sup>6</sup>](#fn6).  I think they’re probably reasonable approximations to the exact values."
      ]
    },
    {
      "cell_type": "markdown",
      "metadata": {
        "id": "snL5mEWG-gX0"
      },
      "source": [
        "|planet|arc-seconds per century\t| microradians per orbit|\n",
        "|------|------------------------|-----------------------|\n",
        "|Venus |280.6 |3.28|\n",
        "|Earth |83.6 |0.98|\n",
        "|Mars |2.6 |0.03|\n",
        "|asteroids |not calculated <br />(perhaps ~0.13) |0.002|\n",
        "|Jupiter |152.6 |1.78|\n",
        "|Saturn |7.2 |0.08|\n",
        "|Uranus|0.1 |0.001|\n",
        "|Neptune|not calculated <br />(perhaps ~0.04) |0.0005|\n",
        "|Pluto|Pluto was discovered in 1930. <br />(should be negligible)| |\n",
        "|Total|526.7 |6.15|"
      ]
    },
    {
      "cell_type": "markdown",
      "metadata": {
        "id": "LBiWV5tR-gX0"
      },
      "source": [
        "## Exercise 3: Mercury Precession"
      ]
    },
    {
      "cell_type": "markdown",
      "metadata": {
        "id": "I7Z7eANA-gX0"
      },
      "source": [
        "* **List of collaborators:**\n",
        "\n",
        "* **References you used in developing your code:**"
      ]
    },
    {
      "cell_type": "markdown",
      "metadata": {
        "id": "sZUEk0WA-gX0"
      },
      "source": [
        "Our goal in this exercise is to determine how general relativity affects the precision of Mercury.  We know from Kepler's laws that objects orbiting around a central body orbit in an ellipse.  That means the second time around their orbit they come back to the same place that they started.  If you have more then two bodies (like above) or if there are corrections to gravity from general relativity (which there are), then you aren't going to come back exactly to the same place.  Instead the orbit precesses around.  There's a good picture [here](https://aether.lbl.gov/www/classes/p10/gr/PrecessionperihelionMercury.htm).   \n",
        "\n",
        "In this assignment, it will be important to work with all your arrays being ***long doubles***.   You should be able to accomplish this mainly by setting the initial conditions of your array to long double.\n",
        "\n",
        "To measure the precision you want measure the angle between two consecutive perihelions (the closest distance on ellipse of the orbit). The most sensible thing is to start at the perihelion and then measure its closest distance when it comes around again.  This is not too hard to do but a bit tricky to get correct.  Here is a good prescription:\n",
        "* Start at the perihelion.\n",
        "* Perform slightly more then one orbit (say 10% more)\n",
        "* Measure the index in the array for the closest distance you get when you come back around.  To avoid measuring the fact that you are close at your \"starting\" location, I recommend that you look for your closest distance that isn't in the first quarter of the orbit.\n",
        "*  Now, because you are taking discrete time steps, the closest location you find might not actually be the closest location (because maybe it got closer somewhere between the steps you took).  This will matter for this measurement.  To fix this, let's interpolate between around this part of the orbit.  \n",
        "    * Take the three points before and after the position you found in the orbit\n",
        "    * Fit a quadratic curve around this part of the orbit: `line=np.polyfit(x,y,2)`\n",
        "    * Find the closest location of this curve by producing a new array with 100000 points which goes from the three points before and after the position you found `np.linspace`\n",
        "    * Get the angle between the lines (sun,original perihelion) and (sun, new perihelion)\n",
        "    \n",
        "It will probably help you if you write a function perihelion that takes the positions array and generates the angle of precision."
      ]
    },
    {
      "cell_type": "markdown",
      "metadata": {
        "id": "HlPHrl5v-gX1"
      },
      "source": [
        "### a.  Mercury without general relativity"
      ]
    },
    {
      "cell_type": "markdown",
      "metadata": {
        "id": "mFmLhTGf-gX1"
      },
      "source": [
        "For our first step, we will compute the precession when we don't have the relativistic term on.  If our integration was perfect, we should get zero. As we recall from earlier assignments, we know that that there is some time-step errors associated with our integration.  So instead of getting zero, we would expect to get something very close to zero."
      ]
    },
    {
      "cell_type": "markdown",
      "metadata": {
        "id": "zpEiqlw9-gX1"
      },
      "source": [
        "You are going to base your Mercury perihelion code on your orbital code from previous units. Let's start by setting up your code for simulating Mercury's orbit:\n",
        "\n",
        "* $r_\\textrm{min}=4.60012 \\times 10^{10}$ m - i.e. `params[\"initPos\"]=np.array([0.0,4.60012e10])`\n",
        "* $v=5.898 \\times 10^{4}$ m/s\n",
        "* $T=60 \\times 60 \\times 24 \\times 88 \\times 1.1$ sec  (1.1 Mercury Years)\n",
        "* $dt=60$  sec.\n",
        "\n",
        "You need to make sure that all of your parameters are long doubles.  To do this I do\n",
        "```\n",
        "for key in params.keys():\n",
        "  params[key]=np.longdouble(params[key])\n",
        "```\n",
        "\n",
        "Plot the orbit of the eccentric Mercury and  report the closest and furthest distance your simulation gets from the sun.\n",
        "You should find a minimum distance of 46001200000.517811935.\n",
        "\n",
        "Then find the closest distance and nearby 5 points the second time around the orbit *not* where you started.  You should get\n",
        "```\n",
        "x                    y                    r\n",
        "-10087525.09595282 46001199082.443085 46001200188.48122315\n",
        "-6548725.141774705 46001199613.28912 46001200079.42697562\n",
        "-3009925.1554468116 46001199918.30062 46001200016.772504188\n",
        "528874.8456577625 46001199997.47758 46001200000.517809045\n",
        "4067674.8441659217 46001199850.81999 46001200030.66289309\n",
        "7606474.822704569 46001199478.327866 46001200107.20775908\n",
        "```\n",
        "\n",
        "\n",
        "If you're not getting this, then you should check again.  \n",
        "\n",
        "\n",
        "Make a separate plot of just these 6 points."
      ]
    },
    {
      "cell_type": "markdown",
      "metadata": {
        "id": "z5v3aljS-gX1"
      },
      "source": [
        "<div><img src=\"https://clark.physics.illinois.edu/246img/AnsStart.svg\" width=200 align=left alt=\"Answer (start)\"></img><br></div>"
      ]
    },
    {
      "cell_type": "code",
      "execution_count": null,
      "metadata": {
        "id": "81OJnSgM-gX1"
      },
      "outputs": [],
      "source": [
        "### ANSWER HERE"
      ]
    },
    {
      "cell_type": "markdown",
      "metadata": {
        "id": "8DufEgkq-gX1"
      },
      "source": [
        "<div><img src=\"https://clark.physics.illinois.edu/246img/AnsEnd.svg\" width=200 align=left alt=\"Answer (start)\"></img><br></div>"
      ]
    },
    {
      "cell_type": "markdown",
      "metadata": {
        "id": "pQds6uN5-gX1"
      },
      "source": [
        "### b. Interpolating to find the  precession\n",
        "\n",
        "\n",
        "Now we need to take our data of those 6 points above and interpolate between them.  (Use your actual orbital data not the copied numbers above - you need higher precision then is being printed out.)\n",
        "\n",
        "Put the 6 points in an array `x` and `y` respectively.  You may have to do something like  `x=np.float64(pos[closest_loc-3:closest_loc+3,0])` to get it to be low enough precision for the polyfit (next step) to work.\n",
        "\n",
        "Now interpolate between them using `line=np.polyfit(x,y,2)`.\n",
        "\n",
        "Now make a new `xs` array which has  100000 points between x[0] and x[-1].  This will be a very fine grid.  Then make a `ys` array that uses the quadratic fit in `line` and the `xs` array to give you the interpolated values.  \n",
        "\n",
        "Plot both the `x` and `y` array as points as well as the `xs` and `ys` array as lines.  This line should interpolate nicely through your points.\n",
        "\n",
        "Finally, using your new `xs` and `ys` array you should get that the nearest distance is something very close to `46001199999.997996964`.\n",
        "\n",
        "Now you should be able to get the actual coordinate of the closest point (the second time around).  Using this you can get the precession angle.\n",
        "I get that it is -0.017013797776581767923 microradians (but because this is very sensitive to precision, anything less then 0.03 microradians is fine.)\n",
        "\n",
        "We will consider anything less then 0.03 microradians in magnitude essentially zero.  \n",
        "\n"
      ]
    },
    {
      "cell_type": "markdown",
      "metadata": {
        "id": "B7ISeHtU-gX1"
      },
      "source": [
        "<div><img src=\"https://clark.physics.illinois.edu/246img/AnsStart.svg\" width=200 align=left alt=\"Answer (start)\"></img><br></div>"
      ]
    },
    {
      "cell_type": "code",
      "execution_count": null,
      "metadata": {
        "id": "cB-YZUwL-gX1"
      },
      "outputs": [],
      "source": [
        "### ANSWER HERE"
      ]
    },
    {
      "cell_type": "markdown",
      "metadata": {
        "id": "7V2Z0Pqc-gX1"
      },
      "source": [
        "<div><img src=\"https://clark.physics.illinois.edu/246img/AnsEnd.svg\" width=200 align=left alt=\"Answer (end)\"></img><br></div>"
      ]
    },
    {
      "cell_type": "markdown",
      "metadata": {
        "id": "SFeURaHZ-gX1"
      },
      "source": [
        "### c.  Mercury with general relativity"
      ]
    },
    {
      "cell_type": "markdown",
      "metadata": {
        "id": "Fu3n6FLv-gX1"
      },
      "source": [
        "Now turn on the effects of general relativity (by modifying your force) and do the same computation.\n",
        "\n",
        "The post-Newtonian modification to the gravitational acceleration experienced by Mercury adds an extra term after the inverse-square Newtonian term:\n",
        "\n",
        "$$ \\frac{F(r)}{m} = -\\frac{GM_\\odot}{r^2} - \\frac{3r_s\\left(v_\\textrm{perihelion}r_\\textrm{perihelion}\\right)^2}{2r^4}$$\n",
        "\n",
        "The Schwarzschild radius of the sun is $r_S = 2,953.36$ meters. Mercury’s speed at perihelion is\n",
        "$v_\\textrm{perihelion} = 58,980$ m/s while its $r_\\textrm{perihelion} = 4.60012e10$ m.\n",
        "\n",
        "🦉Please add the post-Newtonian term to the acceleration of gravity and repeat parts (a) and (b)\n",
        "\n",
        "I now get (in 11 seconds)\n",
        "```\n",
        "The minimum location before interpolation is  46001200000.654238053\n",
        "The minimum location after interpolation is  46001199999.99801791\n",
        "The maximum location is  46923484445.272278626\n",
        "The precision angle I get is  0.4887683792163817\n",
        "```\n",
        "\n",
        "Note that the actual value is 0.5022 microradians per orbit. That’s pretty good!"
      ]
    },
    {
      "cell_type": "markdown",
      "metadata": {
        "id": "yP4_SXBa-gX1"
      },
      "source": [
        "**HINT:** For this assignment you need to get points around the closest distance (the second time around the orbit *not* where you start.  You should get some of the close points as\n",
        "```\n",
        "x                   y                   r\n",
        "-9998967.016889445 46001199099.338745 46001200186.04237594\n",
        "-6460167.061694921 46001199624.2306 46001200077.84657632\n",
        "-2921367.0747853755 46001199923.28789 46001200016.05052716\n",
        "617432.9264660933 46001199996.51061 46001200000.654237192\n",
        "4156232.9246863867 46001199843.898766 46001200031.65769507\n",
        "7695032.902502406 46001199465.452354 46001200109.060909245\n",
        "```\n",
        "\n",
        "If you're not getting this, then you should check again.  Then you need to interpolate through this data (`    line=np.polyfit(x,y,2)`).  Finally, you should get that the nearest distance is (after interpolation) something very close to `46001199999.99801791`."
      ]
    },
    {
      "cell_type": "markdown",
      "metadata": {
        "id": "2VoSQ5SS-gX1"
      },
      "source": [
        "<div><img src=\"https://clark.physics.illinois.edu/246img/AnsStart.svg\" width=200 align=left alt=\"Answer (start)\"></img><br></div>"
      ]
    },
    {
      "cell_type": "code",
      "execution_count": null,
      "metadata": {
        "id": "BaEypJVU-gX1"
      },
      "outputs": [],
      "source": [
        "### ANSWER HERE"
      ]
    },
    {
      "cell_type": "markdown",
      "metadata": {
        "id": "r84a39vw-gX1"
      },
      "source": [
        "<div><img src=\"https://clark.physics.illinois.edu/246img/AnsEnd.svg\" width=200 align=left alt=\"Answer (start)\"></img><br></div>"
      ]
    },
    {
      "cell_type": "markdown",
      "metadata": {
        "id": "KAm5d6nC-gX1"
      },
      "source": [
        "## Exercise 4. Transfer Orbits (Extra Credit: 5 points)"
      ]
    },
    {
      "cell_type": "markdown",
      "metadata": {
        "id": "L7tVZray-gX1"
      },
      "source": [
        "* **List of collaborators:**\n",
        "\n",
        "* **References you used in developing your code:**"
      ]
    },
    {
      "cell_type": "markdown",
      "metadata": {
        "id": "IIJ3PBeK-gX1"
      },
      "source": [
        "If you are trying to get spacecraft around the solar system, an important thing to be able to do is to get a spacecraft from one point to another point in a time $T$.  To do this, the spacecraft will need to choose a particular velocity (speed and direction) to be heading in. Write a function ```Transfer(pos1,pos2,T)``` which determines the velocity to get the spacecraft from pos1 to pos2 in time T."
      ]
    },
    {
      "cell_type": "markdown",
      "metadata": {
        "id": "jJ6-msA7-gX1"
      },
      "source": [
        "---"
      ]
    },
    {
      "cell_type": "markdown",
      "metadata": {
        "id": "_NPolfCn-gX1"
      },
      "source": [
        "© Copyright 2020\n",
        "\n",
        "* Ex 1: George Gollin (original); Bryan Clark (modifications)\n",
        "* Ex 2: Bryan Clark (original)\n",
        "* Ex 3: George Gollin (original); Bryan Clark (modifications)"
      ]
    },
    {
      "cell_type": "code",
      "execution_count": null,
      "metadata": {
        "id": "xhKj_IwY-gX2"
      },
      "outputs": [],
      "source": []
    }
  ],
  "metadata": {
    "jupytext": {
      "formats": "ipynb,md:myst"
    },
    "kernelspec": {
      "display_name": "Python 3",
      "language": "python",
      "name": "python3"
    },
    "language_info": {
      "codemirror_mode": {
        "name": "ipython",
        "version": 3
      },
      "file_extension": ".py",
      "mimetype": "text/x-python",
      "name": "python",
      "nbconvert_exporter": "python",
      "pygments_lexer": "ipython3",
      "version": "3.8.3"
    },
    "varInspector": {
      "cols": {
        "lenName": 16,
        "lenType": 16,
        "lenVar": 40
      },
      "kernels_config": {
        "python": {
          "delete_cmd_postfix": "",
          "delete_cmd_prefix": "del ",
          "library": "var_list.py",
          "varRefreshCmd": "print(var_dic_list())"
        },
        "r": {
          "delete_cmd_postfix": ") ",
          "delete_cmd_prefix": "rm(",
          "library": "var_list.r",
          "varRefreshCmd": "cat(var_dic_list()) "
        }
      },
      "types_to_exclude": [
        "module",
        "function",
        "builtin_function_or_method",
        "instance",
        "_Feature"
      ],
      "window_display": false
    },
    "colab": {
      "provenance": [],
      "include_colab_link": true
    }
  },
  "nbformat": 4,
  "nbformat_minor": 0
}